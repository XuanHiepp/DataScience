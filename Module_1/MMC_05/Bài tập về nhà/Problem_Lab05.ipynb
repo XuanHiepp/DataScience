{
  "nbformat": 4,
  "nbformat_minor": 0,
  "metadata": {
    "colab": {
      "provenance": []
    },
    "kernelspec": {
      "name": "python3",
      "display_name": "Python 3"
    },
    "language_info": {
      "name": "python"
    }
  },
  "cells": [
    {
      "cell_type": "markdown",
      "source": [
        "#Bài tập 1: Thao tác với ma trận  \n",
        "**Lý thuyết**:  \n",
        "NumPy cung cấp các công cụ mạnh mẽ để thao tác ma trận, bao gồm tính toán các định thức, tìm nghịch đảo và tính toán các giá trị riêng và vectơ riêng.\n",
        "  \n",
        "**Đề bài**:  \n",
        "Tạo ma trận 5x5 ngẫu nhiên và thực hiện các thao tác sau:  \n",
        "* Tính định thức (determinant) của ma trận.  \n",
        "* Tìm nghịch đảo (transpose) của ma trận.  \n",
        "* Tính các giá trị riêng (eigent value) và vectơ riêng (eigent vector) của ma trận.   \n",
        "(Phần này sẽ liên quan tới đại số tuyến tính, mọi người có thể tự tìm hiểu để hiểu chi tiết về các khái niệm trên)\n",
        "\n",
        "<details>\n",
        "  <summary>Hint</summary>\n",
        "\n",
        "```python\n",
        "import numpy as np\n",
        "\n",
        "# Generate a random 5x5 matrix\n",
        "matrix = np.random.rand(5, 5)\n",
        "\n",
        "# Compute determinant\n",
        "det = np.linalg.det(matrix)\n",
        "\n",
        "# Find inverse\n",
        "inverse = np.linalg.inv(matrix)\n",
        "\n",
        "# Calculate eigenvalues and eigenvectors\n",
        "eigenvalues, eigenvectors = np.linalg.eig(matrix)\n",
        "\n",
        "```\n",
        "</details>"
      ],
      "metadata": {
        "id": "jxgT4r6ovuvd"
      }
    },
    {
      "cell_type": "code",
      "execution_count": 3,
      "metadata": {
        "id": "-SEd8zd9tBN8",
        "colab": {
          "base_uri": "https://localhost:8080/"
        },
        "outputId": "bee00a5d-0531-4780-9f57-870abd48086e"
      },
      "outputs": [
        {
          "output_type": "stream",
          "name": "stdout",
          "text": [
            "[[0.53372472 0.69790575 0.61228957 0.01320616 0.94493624]\n",
            " [0.96624503 0.98056978 0.1931653  0.6818104  0.80625013]\n",
            " [0.76284506 0.89699234 0.62183006 0.02084743 0.46915454]\n",
            " [0.2100269  0.13491295 0.78383113 0.66126345 0.191567  ]\n",
            " [0.26708684 0.78168774 0.91385621 0.03808557 0.67182733]]\n",
            "[[ 1.43503592 -0.66535149  1.91124303  0.75667    -2.77035329]\n",
            " [-2.35525699  1.06831191 -0.27378414 -1.1934041   2.56212406]\n",
            " [ 0.30809241 -0.8515686   0.67032687  0.8578908  -0.12411053]\n",
            " [-0.86182165  0.96654488 -0.96969464  0.53015896  0.57822187]\n",
            " [ 1.79966941  0.12506213 -1.2981091  -0.10926543 -0.25521256]]\n"
          ]
        }
      ],
      "source": [
        "# Your code here\n",
        "import numpy as np\n",
        "\n",
        "matrix = np.random.rand(5, 5)\n",
        "nd_matrix = np.linalg.inv(matrix)\n",
        "tri_rieng, vecto_rieng = np.linalg.eig(matrix)\n",
        "\n",
        "print(matrix)\n",
        "print(nd_matrix)"
      ]
    },
    {
      "cell_type": "markdown",
      "source": [
        "# Bài tập 2: Optimization\n",
        "**Lý thuyết:**  \n",
        "Gradient descent là một thuật toán tối ưu hóa được sử dụng để cực tiểu hóa hàm bằng cách di chuyển lặp đi lặp lại theo hướng dốc xuống.\n",
        "\n",
        "**Đề bài:**  \n",
        "Triển khai gradient descent sử dụng NumPy để tối ưu hàm số sau:\n",
        " $$ f(x) = x^2 + 5 \\sin(x) $$\n",
        "<details>\n",
        "  <summary>Hint</summary>\n",
        "\n",
        "```python\n",
        "import numpy as np\n",
        "\n",
        "def gradient_descent(x, learning_rate, iterations):\n",
        "    for _ in range(iterations):\n",
        "        gradient = 2*x + 5*np.cos(x)  # Đạo hàm riêng theo x\n",
        "        x = x - learning_rate * gradient # Cập nhật tham số\n",
        "    return x\n",
        "\n",
        "# Khởi tạo các hyperparameters\n",
        "x_initial = 5  # Input đầu vào\n",
        "learning_rate = 0.1 # Tốc độ học\n",
        "iterations = 100 # Số lần lặp\n",
        "\n",
        "# Run gradient descent\n",
        "minima = gradient_descent(x_initial, learning_rate, iterations)\n",
        "```\n",
        "\n",
        "</details>"
      ],
      "metadata": {
        "id": "j5y16Eqkxd_o"
      }
    },
    {
      "cell_type": "code",
      "source": [
        "import numpy as np\n",
        "\n",
        "# Your code here\n",
        "def gradient(x, lr, loop):\n",
        "  for v in range(loop):\n",
        "    grad = 2*x - 5*np.cos(x)\n",
        "    x = x - lr*grad\n",
        "  return x"
      ],
      "metadata": {
        "id": "s3Q3kOnuwxxW"
      },
      "execution_count": 6,
      "outputs": []
    },
    {
      "cell_type": "code",
      "source": [
        "x = 5\n",
        "lr = 0.5\n",
        "loop = 10\n",
        "\n",
        "x = gradient(x, lr, loop)\n",
        "print(x)"
      ],
      "metadata": {
        "colab": {
          "base_uri": "https://localhost:8080/"
        },
        "id": "_Q_UOvAbTv4W",
        "outputId": "cbbe62c1-aa63-416d-bb62-0ac734474d7c"
      },
      "execution_count": 8,
      "outputs": [
        {
          "output_type": "stream",
          "name": "stdout",
          "text": [
            "-1.9488078256327315\n"
          ]
        }
      ]
    },
    {
      "cell_type": "markdown",
      "source": [
        "# Bài tập 3: Phân tích thống kê  \n",
        "**Lý thuyết**:  \n",
        "NumPy cung cấp các chức năng để phân tích thống kê, bao gồm tính toán giá trị trung bình (mean), trung vị (median), độ lệch chuẩn (standard deviation) và mối tương quan (correlation).  \n",
        "\n",
        "**Đề Bài**:  \n",
        "Thực hiện phân tích thống kê trên tập dữ liệu bai3.csv bằng NumPy:  \n",
        "* Tính giá trị trung bình, trung vị và độ lệch chuẩn của tập dữ liệu.\n",
        "* Tính toán ma trận tương quan giữa các biến khác nhau.\n",
        "* Xác định các ngoại lệ trong tập dữ liệu bằng cách sử dụng điểm z.\n",
        "\n",
        "<details>\n",
        "  <summary>Hint</summary>\n",
        "\n",
        "```python\n",
        "  # Load dataset\n",
        "  data = np.loadtxt('dataset.csv', delimiter=',')\n",
        "\n",
        "  # Calculate mean, median, and standard deviation\n",
        "  mean = np.mean(data, axis=0)\n",
        "  median = np.median(data, axis=0)\n",
        "  std_dev = np.std(data, axis=0)\n",
        "\n",
        "  # Compute correlation matrix\n",
        "  correlation_matrix = np.corrcoef(data, rowvar=False)\n",
        "\n",
        "  # Identify outliers using z-scores\n",
        "  z_scores = np.abs((data - mean) / std_dev)\n",
        "  outliers = np.where(z_scores > 3)\n",
        "```\n",
        "</details>"
      ],
      "metadata": {
        "id": "r9TwMgo-y5tm"
      }
    },
    {
      "cell_type": "code",
      "source": [
        "# Your code here\n",
        "data = np.loadtxt(\"/content/bai3.csv\", delimiter=\",\", skiprows=1)\n",
        "\n",
        "# Tính giá trị trung bình, trung vị và độ lệch chuẩn của tập dữ liệu.\n",
        "m = np.mean(data, axis=0)\n",
        "me = np.median(data, axis=0)\n",
        "std = np.std(data, axis=0)\n",
        "print(m, me, std)\n",
        "\n",
        "# Tính toán ma trận tương quan giữa các biến khác nhau.\n",
        "cor_matrix = np.corrcoef(data, rowvar=False)\n",
        "print(f\"Ma trận tương quan: {cor_matrix}\")\n",
        "\n",
        "# Xác định các ngoại lệ\n",
        "z = np.abs((data - m) / std)\n",
        "ngoai_le = np.where(z > 3)"
      ],
      "metadata": {
        "id": "KjYxequp1pld",
        "colab": {
          "base_uri": "https://localhost:8080/"
        },
        "outputId": "551a1104-7667-4678-84ee-1e4108d13b93"
      },
      "execution_count": 14,
      "outputs": [
        {
          "output_type": "stream",
          "name": "stdout",
          "text": [
            "[3.42 3.82 6.48 2.72 7.32] [3.1 3.8 6.7 2.6 7.1] [1.56639714 0.59799666 1.25443214 0.75736385 1.32272446]\n",
            "Ma trận tương quan: [[1.         0.47784764 0.89183434 0.61500461 0.94868903]\n",
            " [0.47784764 1.         0.81104187 0.97063145 0.71505798]\n",
            " [0.89183434 0.81104187 1.         0.88457426 0.98139657]\n",
            " [0.61500461 0.97063145 0.88457426 1.         0.79617986]\n",
            " [0.94868903 0.71505798 0.98139657 0.79617986 1.        ]]\n"
          ]
        }
      ]
    },
    {
      "cell_type": "markdown",
      "source": [
        "# Bài 4: Thao tác với tensor\n",
        "Đề cho một tensor đại diện cho một hình ảnh thang độ xám. Thực hiện các thao tác sau:\n",
        "\n",
        "1. Reshape: Reshape tensor thành một hình dạng khác trong khi vẫn đảm bảo tổng số phần tử không đổi.\n",
        "2. Transpose: Transpose tensor dọc theo các trục được chỉ định.\n",
        "3. Slice: Trích xuất một tập hợp con của tensor bằng cách cắt dọc theo các kích thước được chỉ định.\n",
        "4. Concatenate: Concatenate nhiều tensor dọc theo các trục được chỉ định.\n",
        "5. Các phép toán theo phần tử: Thực hiện các phép toán theo phần tử như cộng, trừ, nhân và chia với các giá trị vô hướng hoặc các tensor khác.\n",
        "6. Hoạt động rút gọn: Thực hiện các hoạt động rút gọn như tính tổng, trung bình, tối thiểu và tối đa dọc theo các trục được chỉ định.\n",
        "7. Indexing: Truy cập các phần tử riêng lẻ hoặc các tensor phụ bằng cách sử dụng các chỉ số nguyên hoặc boolean mark.\n",
        "\n",
        "<details>\n",
        "  <summary>Hint</summary>\n",
        "\n",
        "  ```python\n",
        "    # 1. Reshape the tensor\n",
        "    reshaped_tensor = image_tensor.reshape(1, 9)\n",
        "\n",
        "    # 2. Transpose the tensor\n",
        "    transposed_tensor = image_tensor.T\n",
        "\n",
        "    # 3. Slice the tensor\n",
        "    sliced_tensor = image_tensor[:2, :2]\n",
        "\n",
        "    # 4. Concatenate tensors\n",
        "    concatenated_tensor = np.concatenate((image_tensor, image_tensor), axis=0)\n",
        "\n",
        "    # 5. Element-wise operations\n",
        "    added_tensor = image_tensor + 0.1\n",
        "    multiplied_tensor = image_tensor * 2\n",
        "\n",
        "    # 6. Reduction operations\n",
        "    sum_tensor = np.sum(image_tensor)\n",
        "    mean_tensor = np.mean(image_tensor, axis=0)\n",
        "    max_tensor = np.max(image_tensor, axis=1)\n",
        "\n",
        "    # 7. Indexing\n",
        "    element = image_tensor[1, 2]\n",
        "  ```\n",
        "</details>"
      ],
      "metadata": {
        "id": "ZX1eKlF805bM"
      }
    },
    {
      "cell_type": "code",
      "source": [
        "image_tensor = np.array([\n",
        "    [0.1, 0.2, 0.3],\n",
        "    [0.4, 0.5, 0.6],\n",
        "    [0.7, 0.8, 0.9]\n",
        "])"
      ],
      "metadata": {
        "id": "sKx_zUMw041d"
      },
      "execution_count": 15,
      "outputs": []
    },
    {
      "cell_type": "code",
      "source": [
        "# your code here\n",
        "# 1. Reshape\n",
        "reshape = image_tensor.reshape(1, 9)\n",
        "print(f\"Reshape: {reshape}\")\n",
        "\n",
        "# 2. Transpose\n",
        "transpose = image_tensor.T\n",
        "print(f\"Transpose: {transpose}\")\n",
        "\n",
        "# 3. Slice\n",
        "slice_tensor = image_tensor[:2, :2]\n",
        "print(f\"Slice: {slice_tensor}\")\n",
        "\n",
        "# 4. Concatenate\n",
        "concatenate = np.concatenate((image_tensor, image_tensor), axis=0)\n",
        "print(f\"Concatenate: {concatenate}\")\n",
        "\n",
        "# 5. Các phép toán theo phần tử\n",
        "add = image_tensor + 0.1\n",
        "multiply = image_tensor * 2\n",
        "print(f\"Add: {add}\")\n",
        "print(f\"Multiply: {multiply}\")\n",
        "\n",
        "# 6. Hoạt động rút gọn\n",
        "sum = np.sum(image_tensor)\n",
        "mean = np.mean(image_tensor, axis=0)\n",
        "max = np.max(image_tensor, axis=1)\n",
        "print(f\"Sum: {sum}\")\n",
        "print(f\"Mean: {mean}\")\n",
        "print(f\"Max: {max}\")\n",
        "\n",
        "# 7. Indexing\n",
        "index = image_tensor[1, 2]\n",
        "print(f\"Indexing: {index}\")"
      ],
      "metadata": {
        "id": "aDy3tPzby5RN",
        "colab": {
          "base_uri": "https://localhost:8080/"
        },
        "outputId": "8e19c948-6dbc-440e-df42-fc2fedbaf05d"
      },
      "execution_count": 18,
      "outputs": [
        {
          "output_type": "stream",
          "name": "stdout",
          "text": [
            "Reshape: [[0.1 0.2 0.3 0.4 0.5 0.6 0.7 0.8 0.9]]\n",
            "Transpose: [[0.1 0.4 0.7]\n",
            " [0.2 0.5 0.8]\n",
            " [0.3 0.6 0.9]]\n",
            "Slice: [[0.1 0.2]\n",
            " [0.4 0.5]]\n",
            "Concatenate: [[0.1 0.2 0.3]\n",
            " [0.4 0.5 0.6]\n",
            " [0.7 0.8 0.9]\n",
            " [0.1 0.2 0.3]\n",
            " [0.4 0.5 0.6]\n",
            " [0.7 0.8 0.9]]\n",
            "Add: [[0.2 0.3 0.4]\n",
            " [0.5 0.6 0.7]\n",
            " [0.8 0.9 1. ]]\n",
            "Multiply: [[0.2 0.4 0.6]\n",
            " [0.8 1.  1.2]\n",
            " [1.4 1.6 1.8]]\n",
            "Sum: 4.5\n",
            "Mean: [0.4 0.5 0.6]\n",
            "Max: [0.3 0.6 0.9]\n",
            "Indexing: 0.6\n"
          ]
        }
      ]
    },
    {
      "cell_type": "code",
      "source": [],
      "metadata": {
        "id": "NT3mox70WQzy"
      },
      "execution_count": null,
      "outputs": []
    }
  ]
}