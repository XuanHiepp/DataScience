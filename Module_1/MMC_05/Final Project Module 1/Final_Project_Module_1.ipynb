{
  "nbformat": 4,
  "nbformat_minor": 0,
  "metadata": {
    "colab": {
      "provenance": []
    },
    "kernelspec": {
      "name": "python3",
      "display_name": "Python 3"
    },
    "language_info": {
      "name": "python"
    }
  },
  "cells": [
    {
      "cell_type": "code",
      "execution_count": null,
      "metadata": {
        "id": "-8AIjP1xd_pw"
      },
      "outputs": [],
      "source": []
    },
    {
      "cell_type": "markdown",
      "source": [
        "## Đề bài\n",
        "Viết một chương trình để tính toán điểm thi cho nhiều lớp với sĩ số hàng nghìn học sinh. Mục đích của chương trình giúp giảm thời gian chấm điểm. Áp dụng các functions (hàm) khác nhau trong Python để viết chương trình với các tác vụ sau:\n",
        "* Mở các tập tin văn bản bên ngoài được yêu cầu với exception-handling\n",
        "* Quét từng dòng của câu trả lời bài thi để tìm dữ liệu hợp lệ và cung cấp báo cáo tương ứng\n",
        "* Chấm điểm từng bài thi dựa trên tiêu chí đánh giá (rubric) được cung cấp và báo cáo\n",
        "* Tạo tập tin kết quả được đặt tên thích hợp"
      ],
      "metadata": {
        "id": "A-u6Fre2eEdC"
      }
    },
    {
      "cell_type": "markdown",
      "source": [
        "### Task 1:"
      ],
      "metadata": {
        "id": "0kxK22XFeWmn"
      }
    },
    {
      "cell_type": "code",
      "source": [
        "path = \"DataFiles/\"\n",
        "mode = \"r\"\n",
        "filename = input(\"Enter a filename: \")\n",
        "try:\n",
        "    with open(path + filename + \".txt\", mode) as file:\n",
        "        print(f\"Successfully opened {filename}.txt\")\n",
        "        data = [line.strip().split(',') for line in file.readlines()]\n",
        "except Exception as e:\n",
        "    print(\"File cannot be found.\")"
      ],
      "metadata": {
        "colab": {
          "base_uri": "https://localhost:8080/"
        },
        "id": "Dsof-Oa9eFzG",
        "outputId": "c27f96c9-ab85-427d-c141-5efc6365bfa5"
      },
      "execution_count": 162,
      "outputs": [
        {
          "output_type": "stream",
          "name": "stdout",
          "text": [
            "Enter a filename: class1\n",
            "Successfully opened class1.txt\n"
          ]
        }
      ]
    },
    {
      "cell_type": "markdown",
      "source": [
        "### Task 2:"
      ],
      "metadata": {
        "id": "LnMq2dFrgjCI"
      }
    },
    {
      "cell_type": "code",
      "source": [
        "import re\n",
        "import os\n",
        "\n",
        "path = \"DataFiles/\"\n",
        "files = os.listdir(path)\n",
        "mode = \"r\"\n",
        "\n",
        "classdata = {}\n",
        "for v in files:\n",
        "  try:\n",
        "      with open(path + v, mode) as file:\n",
        "          print(f\"Successfully opened {v}\")\n",
        "          datafile = [line.strip().split(',') for line in file.readlines()]\n",
        "          classdata[v] = datafile\n",
        "  except Exception as e:\n",
        "      print(\"File cannot be found.\")"
      ],
      "metadata": {
        "colab": {
          "base_uri": "https://localhost:8080/"
        },
        "id": "cFO81yApqtsj",
        "outputId": "f3df6393-a42d-44af-e1ae-24f57d0254d2"
      },
      "execution_count": 163,
      "outputs": [
        {
          "output_type": "stream",
          "name": "stdout",
          "text": [
            "Successfully opened class1.txt\n",
            "Successfully opened class8.txt\n",
            "Successfully opened class3.txt\n",
            "Successfully opened class5.txt\n",
            "Successfully opened class2.txt\n",
            "Successfully opened class4.txt\n",
            "Successfully opened class6.txt\n",
            "Successfully opened class7.txt\n"
          ]
        }
      ]
    },
    {
      "cell_type": "code",
      "source": [
        "students = []\n",
        "valid_students = []\n",
        "students_score = []"
      ],
      "metadata": {
        "id": "zK8SdbYUtczD"
      },
      "execution_count": 170,
      "outputs": []
    },
    {
      "cell_type": "code",
      "source": [
        "def task2(name):\n",
        "  global valid_students, students\n",
        "  print(f\"Successfully opened {name}.txt\")\n",
        "  students = classdata[name+\".txt\"]\n",
        "  print(\"**** ANALYZING ****\")\n",
        "  N_pattern = r'N\\d{8}'\n",
        "  total = len(students)\n",
        "  total_invalid = 0\n",
        "  for v in students:\n",
        "    values = len(v)\n",
        "    if not re.findall(N_pattern, v[0]):\n",
        "      print(\"Invalid line of data: N# is invalid\")\n",
        "      print((\",\").join(v))\n",
        "      total_invalid += 1\n",
        "    elif values != 26:\n",
        "        print(\"Invalid line of data: does not contain exactly 26 values:\")\n",
        "        print((\",\").join(v))\n",
        "        total_invalid += 1\n",
        "    else:\n",
        "      valid_students.append(v)\n",
        "\n",
        "  if total_invalid == 0:\n",
        "    print(\"No errors found!\")\n",
        "\n",
        "  total_valid = total - total_invalid\n",
        "  print(\"**** REPORT ****\")\n",
        "  print(f\"Total valid lines of data: {total_valid}\")\n",
        "  print(f\"Total invalid lines of dataa: {total_invalid}\\n\")"
      ],
      "metadata": {
        "id": "QFGQCiH-f-Ok"
      },
      "execution_count": 171,
      "outputs": []
    },
    {
      "cell_type": "code",
      "source": [
        "classname = input(\"Enter a class to grade (i.e. class1 for class1.txt): \")\n",
        "task2(classname)"
      ],
      "metadata": {
        "colab": {
          "base_uri": "https://localhost:8080/"
        },
        "id": "qm2YbsQ8MAJ3",
        "outputId": "a547f87a-ec26-43f2-fe82-f099803b7562"
      },
      "execution_count": 166,
      "outputs": [
        {
          "output_type": "stream",
          "name": "stdout",
          "text": [
            "Enter a class to grade (i.e. class1 for class1.txt): class2\n",
            "Successfully opened class2.txt\n",
            "**** ANALYZING ****\n",
            "Invalid line of data: does not contain exactly 26 values:\n",
            "N00000023,,A,D,D,C,B,D,A,C,C,,C,,B,A,C,B,D,A,C,A,A\n",
            "Invalid line of data: N# is invalid\n",
            "N0000002,B,A,D,D,C,B,D,A,C,D,D,D,A,,A,C,D,,A,C,A,A,B,D,D\n",
            "Invalid line of data: N# is invalid\n",
            "NA0000027,B,A,D,D,,B,,A,C,B,D,B,A,,A,C,B,D,A,,A,A,B,D,D\n",
            "Invalid line of data: does not contain exactly 26 values:\n",
            "N00000035,B,A,D,D,B,B,,A,C,,D,B,A,B,A,A,B,D,A,C,A,C,B,D,D,A,A\n",
            "**** REPORT ****\n",
            "Total valid lines of data: 21\n",
            "Total invalid lines of dataa: 4\n",
            "\n"
          ]
        }
      ]
    },
    {
      "cell_type": "markdown",
      "source": [
        "### Task 3"
      ],
      "metadata": {
        "id": "BkbIztZro88n"
      }
    },
    {
      "cell_type": "markdown",
      "source": [
        "Chương trình sẽ sử dụng những câu trả lời này để tính điểm cho mỗi dòng dữ liệu hợp lệ. Điểm có thể được tính như sau:\n",
        "\n",
        "* +4 điểm cho mỗi câu trả lời đúng\n",
        "* 0 điểm cho mỗi câu trả lời bị bỏ qua\n",
        "* -1 điểm cho mỗi câu trả lời sai"
      ],
      "metadata": {
        "id": "NywTBRVzpywO"
      }
    },
    {
      "cell_type": "markdown",
      "source": [
        "Chúng ta cũng cần thống kê các yêu cầu sau:\n",
        "* Đếm số lượng học sinh đạt điểm cao (>80).\n",
        "\n",
        "* Điểm trung bình.\n",
        "\n",
        "* Điểm cao nhất.\n",
        "\n",
        "* Điểm thấp nhất.\n",
        "\n",
        "* Miền giá trị của điểm (cao nhất trừ thấp nhất).\n",
        "\n",
        "* Giá trị trung vị (Sắp xếp các điểm theo thứ tự tăng dần. Nếu # học sinh là số lẻ, bạn có thể lấy giá trị nằm ở giữa của tất cả các điểm (tức là [0, 50, 100] — trung vị là 50). Nếu # học sinh là chẵn bạn có thể tính giá trị trung vị bằng cách lấy giá trị trung bình của hai giá trị giữa (tức là [0, 50, 60, 100] — giá trị trung vị là 55)).\n",
        "\n",
        "* Trả về các câu hỏi bị học sinh bỏ qua nhiều nhất theo thứ tự: số thứ tự câu hỏi - số lượng học sinh bỏ qua -  tỉ lệ bị bỏ qua (nếu có cùng số lượng cho nhiều câu hỏi bị bỏ thì phải liệt kê ra đầy đủ).\n",
        "\n",
        "* Trả về các câu hỏi bị học sinh sai qua nhiều nhất theo thứ tự: số thứ tự câu hỏi - số lượng học sinh trả lời sai - tỉ lệ bị sai (nếu có cùng số lượng cho nhiều câu hỏi bị sai thì phải liệt kê ra đầy đủ).\n",
        "\n",
        "*Lưu ý: các giá trị số thực làm tròn 3 chữ số thập phân*"
      ],
      "metadata": {
        "id": "YP3Mxoxrp14x"
      }
    },
    {
      "cell_type": "code",
      "source": [
        "def clear_output():\n",
        "  global students, valid_students, students_score\n",
        "  students = []\n",
        "  valid_students = []\n",
        "  students_score = []"
      ],
      "metadata": {
        "id": "2DvC8pHsyUAG"
      },
      "execution_count": 172,
      "outputs": []
    },
    {
      "cell_type": "code",
      "source": [
        "def task3():\n",
        "  bq_question = []\n",
        "  list_bq_question = []\n",
        "  sai_question = []\n",
        "  list_sai_question = []\n",
        "  total_high = 0\n",
        "  tb_score = 0\n",
        "  scores = []\n",
        "  for v in valid_students:\n",
        "    i = 1\n",
        "    score = 0\n",
        "    N = len(v)\n",
        "    count_bq_question = 0\n",
        "    for v2 in answer_key:\n",
        "      if i < N:\n",
        "        if v[i] != \"\":\n",
        "          if v[i] == v2:\n",
        "            score += 4\n",
        "          else:\n",
        "            score -= 1\n",
        "            if i not in sai_question:\n",
        "              sai_question.append(i)\n",
        "              list_sai_question.append(1)\n",
        "            else:\n",
        "              list_sai_question[sai_question.index(i)] += 1\n",
        "        else:\n",
        "          if i not in bq_question:\n",
        "            bq_question.append(i)\n",
        "            list_bq_question.append(1)\n",
        "          else:\n",
        "            list_bq_question[bq_question.index(i)] += 1\n",
        "      i += 1\n",
        "    tb_score += score\n",
        "    students_score.append(str(v[0]) + \",\" + str(score))\n",
        "\n",
        "    if score > 80:\n",
        "      total_high += 1\n",
        "    scores.append(score)\n",
        "\n",
        "  total_students = len(valid_students)\n",
        "  m = total_students//2\n",
        "  tb_score = tb_score/total_students\n",
        "  max_score = max(scores)\n",
        "  min_score = min(scores)\n",
        "  mien_score = max_score - min_score\n",
        "  sx_score = sorted(scores)\n",
        "\n",
        "  if total_students%2 == 0:\n",
        "    tv_score = (sx_score[m - 1] + sx_score[m]) / 2\n",
        "  else:\n",
        "    tv_score = sx_score[m]\n",
        "\n",
        "  print(f\"Total student of high scores: {round(total_high, 3)}\")\n",
        "  print(f\"Mean (average) score: {round(tb_score, 3)}\")\n",
        "  print(f\"Highest score: {round(max_score, 3)}\")\n",
        "  print(f\"Lowest score: {round(min_score, 3)}\")\n",
        "  print(f\"Range of scores: {round(mien_score, 3)}\")\n",
        "  print(f\"Median score: {round(tv_score, 3)}\\n\")\n",
        "\n",
        "  j = 0\n",
        "  max_list_bq_question = max(list_bq_question)\n",
        "  bq_question_str = \"\"\n",
        "  for v in bq_question:\n",
        "    if list_bq_question[j] == max_list_bq_question:\n",
        "      bq_question_str += str(v) + \"-\" + str(list_bq_question[j]) + \"-\" + str(round(list_bq_question[j]/total_students, 2)) + \", \"\n",
        "    j += 1\n",
        "  bq_question_str = bq_question_str.strip(\", \")\n",
        "  print(f\"Question that most people skip: {bq_question_str}\")\n",
        "\n",
        "  k = 0\n",
        "  max_list_sai_question = max(list_sai_question)\n",
        "  sai_question_str = \"\"\n",
        "  for v in sai_question:\n",
        "    if list_sai_question[k] == max_list_sai_question:\n",
        "      sai_question_str += str(v) + \"-\" + str(list_sai_question[k]) + \"-\" + str(round(list_sai_question[k]/total_students, 2)) + \", \"\n",
        "    k += 1\n",
        "  sai_question_str = sai_question_str.strip(\", \")\n",
        "  print(f\"Question that most people answer incorrectly: {sai_question_str}\")"
      ],
      "metadata": {
        "id": "MWZMxraWi1Wl"
      },
      "execution_count": 176,
      "outputs": []
    },
    {
      "cell_type": "code",
      "source": [
        "answer_key = \"B,A,D,D,C,B,D,A,C,C,D,B,A,B,A,C,B,D,A,C,A,A,B,D,D\"\n",
        "answer_key = answer_key.split(\",\")\n",
        "classname = input(\"Enter a class to grade (i.e. class1 for class1.txt): \")\n",
        "clear_output()\n",
        "task2(classname)\n",
        "task3()"
      ],
      "metadata": {
        "colab": {
          "base_uri": "https://localhost:8080/"
        },
        "id": "xzX9NjIsL8n5",
        "outputId": "7f6aab57-a293-4b42-e77a-4b93f9a5b060"
      },
      "execution_count": 177,
      "outputs": [
        {
          "output_type": "stream",
          "name": "stdout",
          "text": [
            "Enter a class to grade (i.e. class1 for class1.txt): class1\n",
            "Successfully opened class1.txt\n",
            "**** ANALYZING ****\n",
            "No errors found!\n",
            "**** REPORT ****\n",
            "Total valid lines of data: 20\n",
            "Total invalid lines of dataa: 0\n",
            "\n",
            "Total student of high scores: 6\n",
            "Mean (average) score: 75.6\n",
            "Highest score: 91\n",
            "Lowest score: 59\n",
            "Range of scores: 32\n",
            "Median score: 73.0\n",
            "\n",
            "Question that most people skip: 23-4-0.2, 3-4-0.2, 5-4-0.2\n",
            "Question that most people answer incorrectly: 14-4-0.2, 19-4-0.2, 22-4-0.2, 16-4-0.2, 10-4-0.2\n"
          ]
        }
      ]
    },
    {
      "cell_type": "markdown",
      "source": [
        "### Task 4:\n",
        "Cuối cùng, yêu cầu chương trình là tạo một tệp “kết quả” chứa các kết quả chi tiết cho từng học sinh trong lớp. Mỗi dòng của tệp này phải chứa số ID của học sinh, dấu phẩy và sau đó là điểm của họ. Bạn nên đặt tên tệp này dựa trên tên tệp gốc được cung cấp — ví dụ: nếu người dùng chọn “class1.txt”, bạn nên lưu trữ kết quả trong tệp có tên “class1_grades.txt”."
      ],
      "metadata": {
        "id": "finKh6zaLNXr"
      }
    },
    {
      "cell_type": "code",
      "source": [
        "def task4(name):\n",
        "  try:\n",
        "      with open(name, mode) as file:\n",
        "          file.write(\"# this is what\" + name + \"should look like\\n\")\n",
        "          for line in students_score:\n",
        "              file.write(line+\"\\n\")\n",
        "          print(\"Save file.\")\n",
        "  except Exception as e:\n",
        "      print(f\"File error: {e}\")"
      ],
      "metadata": {
        "id": "vJKqRSSHMcdU"
      },
      "execution_count": 186,
      "outputs": []
    },
    {
      "cell_type": "code",
      "source": [
        "classname = input(\"Enter a class: \")\n",
        "filesave = classname+\"_grades.txt\"\n",
        "mode = \"a\"\n",
        "task4(filesave)"
      ],
      "metadata": {
        "colab": {
          "base_uri": "https://localhost:8080/"
        },
        "id": "-KzpvMTnG8VE",
        "outputId": "1e34b28d-fa88-4192-c39b-ed9981676878"
      },
      "execution_count": 187,
      "outputs": [
        {
          "output_type": "stream",
          "name": "stdout",
          "text": [
            "Enter a class: class1\n",
            "Save file.\n"
          ]
        }
      ]
    }
  ]
}